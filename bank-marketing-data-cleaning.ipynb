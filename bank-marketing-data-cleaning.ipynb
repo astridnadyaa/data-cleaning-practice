{
 "cells": [
  {
   "cell_type": "code",
   "execution_count": 275,
   "metadata": {},
   "outputs": [],
   "source": [
    "# import libraries\n",
    "import pandas as pd\n",
    "import numpy as np\n",
    "from calendar import month_abbr\n",
    "\n",
    "# load dataset\n",
    "df = pd.read_csv('bank_marketing.csv')"
   ]
  },
  {
   "cell_type": "markdown",
   "metadata": {},
   "source": [
    "# Chunking the Dataset\n",
    "\n",
    "Separate bank-marketing dataset into three sub-dataset."
   ]
  },
  {
   "cell_type": "code",
   "execution_count": 276,
   "metadata": {},
   "outputs": [],
   "source": [
    "# create client dataset\n",
    "df_client = df[['client_id', 'age', 'job', 'marital', 'education', 'credit_default', 'mortgage']]\n",
    "\n",
    "# create campaign dataset\n",
    "df_campaign = df[['client_id', 'number_contacts', 'contact_duration', 'previous_campaign_contacts', 'previous_outcome', \n",
    "                  'campaign_outcome', 'day', 'month']]\n",
    "\n",
    "# create economics dataset\n",
    "df_economics = df[['client_id', 'cons_price_idx', 'euribor_three_months']]"
   ]
  },
  {
   "cell_type": "markdown",
   "metadata": {},
   "source": [
    "# Data Cleaning\n",
    "\n",
    "Clean each dataset as per requirement."
   ]
  },
  {
   "cell_type": "markdown",
   "metadata": {},
   "source": [
    "## 1. Client Dataset\n",
    "\n",
    "Overview of Client Dataset."
   ]
  },
  {
   "cell_type": "code",
   "execution_count": 277,
   "metadata": {},
   "outputs": [
    {
     "data": {
      "text/html": [
       "<div>\n",
       "<style scoped>\n",
       "    .dataframe tbody tr th:only-of-type {\n",
       "        vertical-align: middle;\n",
       "    }\n",
       "\n",
       "    .dataframe tbody tr th {\n",
       "        vertical-align: top;\n",
       "    }\n",
       "\n",
       "    .dataframe thead th {\n",
       "        text-align: right;\n",
       "    }\n",
       "</style>\n",
       "<table border=\"1\" class=\"dataframe\">\n",
       "  <thead>\n",
       "    <tr style=\"text-align: right;\">\n",
       "      <th></th>\n",
       "      <th>client_id</th>\n",
       "      <th>age</th>\n",
       "      <th>job</th>\n",
       "      <th>marital</th>\n",
       "      <th>education</th>\n",
       "      <th>credit_default</th>\n",
       "      <th>mortgage</th>\n",
       "    </tr>\n",
       "  </thead>\n",
       "  <tbody>\n",
       "    <tr>\n",
       "      <th>5848</th>\n",
       "      <td>5848</td>\n",
       "      <td>36</td>\n",
       "      <td>admin.</td>\n",
       "      <td>married</td>\n",
       "      <td>university.degree</td>\n",
       "      <td>no</td>\n",
       "      <td>yes</td>\n",
       "    </tr>\n",
       "    <tr>\n",
       "      <th>11260</th>\n",
       "      <td>11260</td>\n",
       "      <td>57</td>\n",
       "      <td>retired</td>\n",
       "      <td>married</td>\n",
       "      <td>basic.4y</td>\n",
       "      <td>unknown</td>\n",
       "      <td>no</td>\n",
       "    </tr>\n",
       "    <tr>\n",
       "      <th>3552</th>\n",
       "      <td>3552</td>\n",
       "      <td>48</td>\n",
       "      <td>management</td>\n",
       "      <td>married</td>\n",
       "      <td>university.degree</td>\n",
       "      <td>no</td>\n",
       "      <td>no</td>\n",
       "    </tr>\n",
       "    <tr>\n",
       "      <th>2783</th>\n",
       "      <td>2783</td>\n",
       "      <td>48</td>\n",
       "      <td>retired</td>\n",
       "      <td>married</td>\n",
       "      <td>basic.9y</td>\n",
       "      <td>no</td>\n",
       "      <td>no</td>\n",
       "    </tr>\n",
       "    <tr>\n",
       "      <th>14693</th>\n",
       "      <td>14693</td>\n",
       "      <td>58</td>\n",
       "      <td>retired</td>\n",
       "      <td>married</td>\n",
       "      <td>basic.4y</td>\n",
       "      <td>unknown</td>\n",
       "      <td>no</td>\n",
       "    </tr>\n",
       "    <tr>\n",
       "      <th>13972</th>\n",
       "      <td>13972</td>\n",
       "      <td>30</td>\n",
       "      <td>services</td>\n",
       "      <td>single</td>\n",
       "      <td>high.school</td>\n",
       "      <td>no</td>\n",
       "      <td>yes</td>\n",
       "    </tr>\n",
       "    <tr>\n",
       "      <th>32114</th>\n",
       "      <td>32114</td>\n",
       "      <td>37</td>\n",
       "      <td>blue-collar</td>\n",
       "      <td>married</td>\n",
       "      <td>high.school</td>\n",
       "      <td>unknown</td>\n",
       "      <td>yes</td>\n",
       "    </tr>\n",
       "    <tr>\n",
       "      <th>14059</th>\n",
       "      <td>14059</td>\n",
       "      <td>25</td>\n",
       "      <td>unemployed</td>\n",
       "      <td>married</td>\n",
       "      <td>university.degree</td>\n",
       "      <td>no</td>\n",
       "      <td>no</td>\n",
       "    </tr>\n",
       "    <tr>\n",
       "      <th>28599</th>\n",
       "      <td>28599</td>\n",
       "      <td>31</td>\n",
       "      <td>admin.</td>\n",
       "      <td>married</td>\n",
       "      <td>university.degree</td>\n",
       "      <td>no</td>\n",
       "      <td>no</td>\n",
       "    </tr>\n",
       "    <tr>\n",
       "      <th>16091</th>\n",
       "      <td>16091</td>\n",
       "      <td>38</td>\n",
       "      <td>self-employed</td>\n",
       "      <td>single</td>\n",
       "      <td>unknown</td>\n",
       "      <td>no</td>\n",
       "      <td>no</td>\n",
       "    </tr>\n",
       "  </tbody>\n",
       "</table>\n",
       "</div>"
      ],
      "text/plain": [
       "       client_id  age            job  marital          education  \\\n",
       "5848        5848   36         admin.  married  university.degree   \n",
       "11260      11260   57        retired  married           basic.4y   \n",
       "3552        3552   48     management  married  university.degree   \n",
       "2783        2783   48        retired  married           basic.9y   \n",
       "14693      14693   58        retired  married           basic.4y   \n",
       "13972      13972   30       services   single        high.school   \n",
       "32114      32114   37    blue-collar  married        high.school   \n",
       "14059      14059   25     unemployed  married  university.degree   \n",
       "28599      28599   31         admin.  married  university.degree   \n",
       "16091      16091   38  self-employed   single            unknown   \n",
       "\n",
       "      credit_default mortgage  \n",
       "5848              no      yes  \n",
       "11260        unknown       no  \n",
       "3552              no       no  \n",
       "2783              no       no  \n",
       "14693        unknown       no  \n",
       "13972             no      yes  \n",
       "32114        unknown      yes  \n",
       "14059             no       no  \n",
       "28599             no       no  \n",
       "16091             no       no  "
      ]
     },
     "execution_count": 277,
     "metadata": {},
     "output_type": "execute_result"
    }
   ],
   "source": [
    "df_client.sample(10)"
   ]
  },
  {
   "cell_type": "code",
   "execution_count": 278,
   "metadata": {},
   "outputs": [
    {
     "name": "stdout",
     "output_type": "stream",
     "text": [
      "<class 'pandas.core.frame.DataFrame'>\n",
      "RangeIndex: 41188 entries, 0 to 41187\n",
      "Data columns (total 7 columns):\n",
      " #   Column          Non-Null Count  Dtype \n",
      "---  ------          --------------  ----- \n",
      " 0   client_id       41188 non-null  int64 \n",
      " 1   age             41188 non-null  int64 \n",
      " 2   job             41188 non-null  object\n",
      " 3   marital         41188 non-null  object\n",
      " 4   education       41188 non-null  object\n",
      " 5   credit_default  41188 non-null  object\n",
      " 6   mortgage        41188 non-null  object\n",
      "dtypes: int64(2), object(5)\n",
      "memory usage: 2.2+ MB\n"
     ]
    }
   ],
   "source": [
    "# check datatype\n",
    "df_client.info()"
   ]
  },
  {
   "cell_type": "markdown",
   "metadata": {},
   "source": [
    "no missing values in client dataset.\n",
    "column credit_default and mortgage should convert to boolean data type."
   ]
  },
  {
   "cell_type": "markdown",
   "metadata": {},
   "source": [
    "### credit_default column and mortgage column"
   ]
  },
  {
   "cell_type": "code",
   "execution_count": 279,
   "metadata": {},
   "outputs": [
    {
     "name": "stdout",
     "output_type": "stream",
     "text": [
      "Unique values in credit_default column before conversion:  ['no' 'unknown' 'yes']\n",
      "Unique values in mortgage column before conversion:  ['no' 'yes' 'unknown']\n",
      "\n",
      "\n",
      "Unique values in credit_default column after conversion:  [0 1]\n",
      "Unique values in mortgage column after conversion:  [0 1]\n"
     ]
    },
    {
     "name": "stderr",
     "output_type": "stream",
     "text": [
      "<ipython-input-279-872bce390212>:6: SettingWithCopyWarning: \n",
      "A value is trying to be set on a copy of a slice from a DataFrame.\n",
      "Try using .loc[row_indexer,col_indexer] = value instead\n",
      "\n",
      "See the caveats in the documentation: https://pandas.pydata.org/pandas-docs/stable/user_guide/indexing.html#returning-a-view-versus-a-copy\n",
      "  df_client['credit_default'] = np.where(df_client['credit_default'] == \"yes\", 1, 0)\n",
      "<ipython-input-279-872bce390212>:7: SettingWithCopyWarning: \n",
      "A value is trying to be set on a copy of a slice from a DataFrame.\n",
      "Try using .loc[row_indexer,col_indexer] = value instead\n",
      "\n",
      "See the caveats in the documentation: https://pandas.pydata.org/pandas-docs/stable/user_guide/indexing.html#returning-a-view-versus-a-copy\n",
      "  df_client['mortgage'] = np.where(df_client['mortgage'] == \"yes\", 1, 0)\n"
     ]
    }
   ],
   "source": [
    "# check unique values from the columns\n",
    "print('Unique values in credit_default column before conversion: ', df_client.credit_default.unique())\n",
    "print('Unique values in mortgage column before conversion: ', df_client.mortgage.unique())\n",
    "\n",
    "# replace values\n",
    "df_client['credit_default'] = np.where(df_client['credit_default'] == \"yes\", 1, 0)\n",
    "df_client['mortgage'] = np.where(df_client['mortgage'] == \"yes\", 1, 0)\n",
    "print(\"\\n\")\n",
    "\n",
    "# check unique values from the columns\n",
    "print('Unique values in credit_default column after conversion: ', df_client.credit_default.unique())\n",
    "print('Unique values in mortgage column after conversion: ', df_client.mortgage.unique())"
   ]
  },
  {
   "cell_type": "code",
   "execution_count": 280,
   "metadata": {},
   "outputs": [
    {
     "data": {
      "text/plain": [
       "client_id          int64\n",
       "age                int64\n",
       "job               object\n",
       "marital           object\n",
       "education         object\n",
       "credit_default     int64\n",
       "mortgage           int64\n",
       "dtype: object"
      ]
     },
     "execution_count": 280,
     "metadata": {},
     "output_type": "execute_result"
    }
   ],
   "source": [
    "df_client.dtypes"
   ]
  },
  {
   "cell_type": "code",
   "execution_count": 281,
   "metadata": {},
   "outputs": [
    {
     "name": "stdout",
     "output_type": "stream",
     "text": [
      "Type of credit_default column before conversion:  int64\n",
      "Type of mortgage column before conversion:  int64\n",
      "\n",
      "\n",
      "Type of credit_default column after conversion:  bool\n",
      "Type of mortgage column after conversion:  bool\n"
     ]
    },
    {
     "name": "stderr",
     "output_type": "stream",
     "text": [
      "<ipython-input-281-e1603a07d178>:6: SettingWithCopyWarning: \n",
      "A value is trying to be set on a copy of a slice from a DataFrame.\n",
      "Try using .loc[row_indexer,col_indexer] = value instead\n",
      "\n",
      "See the caveats in the documentation: https://pandas.pydata.org/pandas-docs/stable/user_guide/indexing.html#returning-a-view-versus-a-copy\n",
      "  df_client['credit_default'] = df_client.credit_default.astype('bool')\n",
      "<ipython-input-281-e1603a07d178>:7: SettingWithCopyWarning: \n",
      "A value is trying to be set on a copy of a slice from a DataFrame.\n",
      "Try using .loc[row_indexer,col_indexer] = value instead\n",
      "\n",
      "See the caveats in the documentation: https://pandas.pydata.org/pandas-docs/stable/user_guide/indexing.html#returning-a-view-versus-a-copy\n",
      "  df_client['mortgage'] = df_client.mortgage.astype('bool')\n"
     ]
    }
   ],
   "source": [
    "# check datatype\n",
    "print(\"Type of credit_default column before conversion: \", df_client.credit_default.dtype)\n",
    "print(\"Type of mortgage column before conversion: \", df_client.mortgage.dtype)\n",
    "\n",
    "# convert datatype\n",
    "df_client['credit_default'] = df_client.credit_default.astype('bool')\n",
    "df_client['mortgage'] = df_client.mortgage.astype('bool')\n",
    "print(\"\\n\")\n",
    "\n",
    "# check datatype after conversion\n",
    "print(\"Type of credit_default column after conversion: \", df_client.credit_default.dtype)\n",
    "print(\"Type of mortgage column after conversion: \", df_client.mortgage.dtype)"
   ]
  },
  {
   "cell_type": "markdown",
   "metadata": {},
   "source": [
    "### job column and education column"
   ]
  },
  {
   "cell_type": "code",
   "execution_count": 282,
   "metadata": {},
   "outputs": [
    {
     "name": "stdout",
     "output_type": "stream",
     "text": [
      "Unique values in job column before conversion:  ['housemaid' 'services' 'admin.' 'blue-collar' 'technician' 'retired'\n",
      " 'management' 'unemployed' 'self-employed' 'unknown' 'entrepreneur'\n",
      " 'student']\n",
      "Unique values in job column after conversion:  ['housemaid' 'services' 'admin_' 'blue-collar' 'technician' 'retired'\n",
      " 'management' 'unemployed' 'self-employed' 'unknown' 'entrepreneur'\n",
      " 'student']\n"
     ]
    },
    {
     "name": "stderr",
     "output_type": "stream",
     "text": [
      "<ipython-input-282-ce2fe538d1bb>:5: SettingWithCopyWarning: \n",
      "A value is trying to be set on a copy of a slice from a DataFrame.\n",
      "Try using .loc[row_indexer,col_indexer] = value instead\n",
      "\n",
      "See the caveats in the documentation: https://pandas.pydata.org/pandas-docs/stable/user_guide/indexing.html#returning-a-view-versus-a-copy\n",
      "  df_client['job'] = df_client['job'].apply(lambda x: x.replace('.', '_'))\n"
     ]
    }
   ],
   "source": [
    "# check unique values\n",
    "print(\"Unique values in job column before conversion: \", df_client.job.unique())\n",
    "\n",
    "# change \".\" to \"_\"\n",
    "df_client['job'] = df_client['job'].apply(lambda x: x.replace('.', '_'))\n",
    "\n",
    "# check unique values after conversion\n",
    "print(\"Unique values in job column after conversion: \", df_client.job.unique())"
   ]
  },
  {
   "cell_type": "code",
   "execution_count": 283,
   "metadata": {},
   "outputs": [
    {
     "name": "stdout",
     "output_type": "stream",
     "text": [
      "Unique values in education column before conversion:  ['basic.4y' 'high.school' 'basic.6y' 'basic.9y' 'professional.course'\n",
      " 'unknown' 'university.degree' 'illiterate']\n",
      "Unique values in education column after conversion:  ['basic_4y' 'high_school' 'basic_6y' 'basic_9y' 'professional_course' nan\n",
      " 'university_degree' 'illiterate']\n"
     ]
    },
    {
     "name": "stderr",
     "output_type": "stream",
     "text": [
      "<ipython-input-283-d8a09f5dec4a>:5: SettingWithCopyWarning: \n",
      "A value is trying to be set on a copy of a slice from a DataFrame.\n",
      "Try using .loc[row_indexer,col_indexer] = value instead\n",
      "\n",
      "See the caveats in the documentation: https://pandas.pydata.org/pandas-docs/stable/user_guide/indexing.html#returning-a-view-versus-a-copy\n",
      "  df_client['education'] = df_client['education'].apply(lambda x: x.replace('.', '_'))\n",
      "<ipython-input-283-d8a09f5dec4a>:6: SettingWithCopyWarning: \n",
      "A value is trying to be set on a copy of a slice from a DataFrame.\n",
      "Try using .loc[row_indexer,col_indexer] = value instead\n",
      "\n",
      "See the caveats in the documentation: https://pandas.pydata.org/pandas-docs/stable/user_guide/indexing.html#returning-a-view-versus-a-copy\n",
      "  df_client['education'] = df_client['education'].replace('unknown', np.NaN)\n"
     ]
    }
   ],
   "source": [
    "# check unique values\n",
    "print(\"Unique values in education column before conversion: \", df_client.education.unique())\n",
    "\n",
    "# change \".\" to \"_\" and \"unknown\" to \"np.NaN\"\n",
    "df_client['education'] = df_client['education'].apply(lambda x: x.replace('.', '_'))\n",
    "df_client['education'] = df_client['education'].replace('unknown', np.NaN)\n",
    "\n",
    "# check unique values after conversion\n",
    "print(\"Unique values in education column after conversion: \", df_client.education.unique())"
   ]
  },
  {
   "cell_type": "code",
   "execution_count": 284,
   "metadata": {},
   "outputs": [
    {
     "name": "stdout",
     "output_type": "stream",
     "text": [
      "<class 'pandas.core.frame.DataFrame'>\n",
      "RangeIndex: 41188 entries, 0 to 41187\n",
      "Data columns (total 7 columns):\n",
      " #   Column          Non-Null Count  Dtype \n",
      "---  ------          --------------  ----- \n",
      " 0   client_id       41188 non-null  int64 \n",
      " 1   age             41188 non-null  int64 \n",
      " 2   job             41188 non-null  object\n",
      " 3   marital         41188 non-null  object\n",
      " 4   education       39457 non-null  object\n",
      " 5   credit_default  41188 non-null  bool  \n",
      " 6   mortgage        41188 non-null  bool  \n",
      "dtypes: bool(2), int64(2), object(3)\n",
      "memory usage: 1.6+ MB\n"
     ]
    }
   ],
   "source": [
    "df_client.info()"
   ]
  },
  {
   "cell_type": "markdown",
   "metadata": {},
   "source": [
    "## 2. Campaign Dataset\n",
    "\n",
    "Overview of Campaign Dataset."
   ]
  },
  {
   "cell_type": "code",
   "execution_count": 285,
   "metadata": {},
   "outputs": [
    {
     "data": {
      "text/html": [
       "<div>\n",
       "<style scoped>\n",
       "    .dataframe tbody tr th:only-of-type {\n",
       "        vertical-align: middle;\n",
       "    }\n",
       "\n",
       "    .dataframe tbody tr th {\n",
       "        vertical-align: top;\n",
       "    }\n",
       "\n",
       "    .dataframe thead th {\n",
       "        text-align: right;\n",
       "    }\n",
       "</style>\n",
       "<table border=\"1\" class=\"dataframe\">\n",
       "  <thead>\n",
       "    <tr style=\"text-align: right;\">\n",
       "      <th></th>\n",
       "      <th>client_id</th>\n",
       "      <th>number_contacts</th>\n",
       "      <th>contact_duration</th>\n",
       "      <th>previous_campaign_contacts</th>\n",
       "      <th>previous_outcome</th>\n",
       "      <th>campaign_outcome</th>\n",
       "      <th>day</th>\n",
       "      <th>month</th>\n",
       "    </tr>\n",
       "  </thead>\n",
       "  <tbody>\n",
       "    <tr>\n",
       "      <th>31086</th>\n",
       "      <td>31086</td>\n",
       "      <td>3</td>\n",
       "      <td>128</td>\n",
       "      <td>0</td>\n",
       "      <td>nonexistent</td>\n",
       "      <td>no</td>\n",
       "      <td>21</td>\n",
       "      <td>may</td>\n",
       "    </tr>\n",
       "    <tr>\n",
       "      <th>10379</th>\n",
       "      <td>10379</td>\n",
       "      <td>1</td>\n",
       "      <td>57</td>\n",
       "      <td>0</td>\n",
       "      <td>nonexistent</td>\n",
       "      <td>no</td>\n",
       "      <td>17</td>\n",
       "      <td>jun</td>\n",
       "    </tr>\n",
       "    <tr>\n",
       "      <th>4604</th>\n",
       "      <td>4604</td>\n",
       "      <td>1</td>\n",
       "      <td>214</td>\n",
       "      <td>0</td>\n",
       "      <td>nonexistent</td>\n",
       "      <td>no</td>\n",
       "      <td>30</td>\n",
       "      <td>may</td>\n",
       "    </tr>\n",
       "    <tr>\n",
       "      <th>25413</th>\n",
       "      <td>25413</td>\n",
       "      <td>1</td>\n",
       "      <td>436</td>\n",
       "      <td>0</td>\n",
       "      <td>nonexistent</td>\n",
       "      <td>no</td>\n",
       "      <td>19</td>\n",
       "      <td>nov</td>\n",
       "    </tr>\n",
       "    <tr>\n",
       "      <th>19405</th>\n",
       "      <td>19405</td>\n",
       "      <td>3</td>\n",
       "      <td>406</td>\n",
       "      <td>0</td>\n",
       "      <td>nonexistent</td>\n",
       "      <td>no</td>\n",
       "      <td>7</td>\n",
       "      <td>aug</td>\n",
       "    </tr>\n",
       "    <tr>\n",
       "      <th>40702</th>\n",
       "      <td>40702</td>\n",
       "      <td>3</td>\n",
       "      <td>81</td>\n",
       "      <td>4</td>\n",
       "      <td>success</td>\n",
       "      <td>no</td>\n",
       "      <td>26</td>\n",
       "      <td>sep</td>\n",
       "    </tr>\n",
       "    <tr>\n",
       "      <th>31044</th>\n",
       "      <td>31044</td>\n",
       "      <td>11</td>\n",
       "      <td>7</td>\n",
       "      <td>1</td>\n",
       "      <td>failure</td>\n",
       "      <td>no</td>\n",
       "      <td>2</td>\n",
       "      <td>may</td>\n",
       "    </tr>\n",
       "    <tr>\n",
       "      <th>31203</th>\n",
       "      <td>31203</td>\n",
       "      <td>1</td>\n",
       "      <td>196</td>\n",
       "      <td>0</td>\n",
       "      <td>nonexistent</td>\n",
       "      <td>no</td>\n",
       "      <td>29</td>\n",
       "      <td>may</td>\n",
       "    </tr>\n",
       "    <tr>\n",
       "      <th>677</th>\n",
       "      <td>677</td>\n",
       "      <td>2</td>\n",
       "      <td>75</td>\n",
       "      <td>0</td>\n",
       "      <td>nonexistent</td>\n",
       "      <td>no</td>\n",
       "      <td>31</td>\n",
       "      <td>may</td>\n",
       "    </tr>\n",
       "    <tr>\n",
       "      <th>29653</th>\n",
       "      <td>29653</td>\n",
       "      <td>5</td>\n",
       "      <td>19</td>\n",
       "      <td>0</td>\n",
       "      <td>nonexistent</td>\n",
       "      <td>no</td>\n",
       "      <td>30</td>\n",
       "      <td>apr</td>\n",
       "    </tr>\n",
       "  </tbody>\n",
       "</table>\n",
       "</div>"
      ],
      "text/plain": [
       "       client_id  number_contacts  contact_duration  \\\n",
       "31086      31086                3               128   \n",
       "10379      10379                1                57   \n",
       "4604        4604                1               214   \n",
       "25413      25413                1               436   \n",
       "19405      19405                3               406   \n",
       "40702      40702                3                81   \n",
       "31044      31044               11                 7   \n",
       "31203      31203                1               196   \n",
       "677          677                2                75   \n",
       "29653      29653                5                19   \n",
       "\n",
       "       previous_campaign_contacts previous_outcome campaign_outcome  day month  \n",
       "31086                           0      nonexistent               no   21   may  \n",
       "10379                           0      nonexistent               no   17   jun  \n",
       "4604                            0      nonexistent               no   30   may  \n",
       "25413                           0      nonexistent               no   19   nov  \n",
       "19405                           0      nonexistent               no    7   aug  \n",
       "40702                           4          success               no   26   sep  \n",
       "31044                           1          failure               no    2   may  \n",
       "31203                           0      nonexistent               no   29   may  \n",
       "677                             0      nonexistent               no   31   may  \n",
       "29653                           0      nonexistent               no   30   apr  "
      ]
     },
     "execution_count": 285,
     "metadata": {},
     "output_type": "execute_result"
    }
   ],
   "source": [
    "df_campaign.sample(10)"
   ]
  },
  {
   "cell_type": "code",
   "execution_count": 286,
   "metadata": {},
   "outputs": [
    {
     "name": "stdout",
     "output_type": "stream",
     "text": [
      "<class 'pandas.core.frame.DataFrame'>\n",
      "RangeIndex: 41188 entries, 0 to 41187\n",
      "Data columns (total 8 columns):\n",
      " #   Column                      Non-Null Count  Dtype \n",
      "---  ------                      --------------  ----- \n",
      " 0   client_id                   41188 non-null  int64 \n",
      " 1   number_contacts             41188 non-null  int64 \n",
      " 2   contact_duration            41188 non-null  int64 \n",
      " 3   previous_campaign_contacts  41188 non-null  int64 \n",
      " 4   previous_outcome            41188 non-null  object\n",
      " 5   campaign_outcome            41188 non-null  object\n",
      " 6   day                         41188 non-null  int64 \n",
      " 7   month                       41188 non-null  object\n",
      "dtypes: int64(5), object(3)\n",
      "memory usage: 2.5+ MB\n"
     ]
    }
   ],
   "source": [
    "# check datatype\n",
    "df_campaign.info()"
   ]
  },
  {
   "cell_type": "markdown",
   "metadata": {},
   "source": [
    "no missing values in campaign dataset. previous_outcome column and campaign_outcome column need to be converted to boolean datatype."
   ]
  },
  {
   "cell_type": "markdown",
   "metadata": {},
   "source": [
    "### previous_outcome column and campaign_outcome column"
   ]
  },
  {
   "cell_type": "code",
   "execution_count": 287,
   "metadata": {},
   "outputs": [
    {
     "name": "stdout",
     "output_type": "stream",
     "text": [
      "Unique values in previous_outcome column before conversion:  ['nonexistent' 'failure' 'success']\n",
      "Unique values in campaign_outcome column before conversion:  ['no' 'yes']\n",
      "\n",
      "\n",
      "Unique values in previous_outcome column after conversion:  [0 1]\n",
      "Unique values in campaign_outcome column after conversion:  [0 1]\n"
     ]
    },
    {
     "name": "stderr",
     "output_type": "stream",
     "text": [
      "<ipython-input-287-b141496cd504>:6: SettingWithCopyWarning: \n",
      "A value is trying to be set on a copy of a slice from a DataFrame.\n",
      "Try using .loc[row_indexer,col_indexer] = value instead\n",
      "\n",
      "See the caveats in the documentation: https://pandas.pydata.org/pandas-docs/stable/user_guide/indexing.html#returning-a-view-versus-a-copy\n",
      "  df_campaign['previous_outcome'] = np.where(df_campaign['previous_outcome'] == \"success\", 1, 0)\n",
      "<ipython-input-287-b141496cd504>:7: SettingWithCopyWarning: \n",
      "A value is trying to be set on a copy of a slice from a DataFrame.\n",
      "Try using .loc[row_indexer,col_indexer] = value instead\n",
      "\n",
      "See the caveats in the documentation: https://pandas.pydata.org/pandas-docs/stable/user_guide/indexing.html#returning-a-view-versus-a-copy\n",
      "  df_campaign['campaign_outcome'] = np.where(df_campaign['campaign_outcome'] == \"yes\", 1, 0)\n"
     ]
    }
   ],
   "source": [
    "# check unique values\n",
    "print(\"Unique values in previous_outcome column before conversion: \", df_campaign.previous_outcome.unique())\n",
    "print(\"Unique values in campaign_outcome column before conversion: \", df_campaign.campaign_outcome.unique())\n",
    "\n",
    "# replace values\n",
    "df_campaign['previous_outcome'] = np.where(df_campaign['previous_outcome'] == \"success\", 1, 0)\n",
    "df_campaign['campaign_outcome'] = np.where(df_campaign['campaign_outcome'] == \"yes\", 1, 0)\n",
    "print(\"\\n\")\n",
    "\n",
    "# check unique values after conversion\n",
    "print(\"Unique values in previous_outcome column after conversion: \", df_campaign.previous_outcome.unique())\n",
    "print(\"Unique values in campaign_outcome column after conversion: \", df_campaign.campaign_outcome.unique())"
   ]
  },
  {
   "cell_type": "code",
   "execution_count": 288,
   "metadata": {},
   "outputs": [
    {
     "name": "stdout",
     "output_type": "stream",
     "text": [
      "Type of previous_outcome column before conversion:  int64\n",
      "Type of campaign_outcome column before conversion:  int64\n",
      "\n",
      "\n",
      "Type of previous_outcome column after conversion:  bool\n",
      "Type of campaign_outcome column after conversion:  bool\n"
     ]
    },
    {
     "name": "stderr",
     "output_type": "stream",
     "text": [
      "<ipython-input-288-d13b2c0116b9>:6: SettingWithCopyWarning: \n",
      "A value is trying to be set on a copy of a slice from a DataFrame.\n",
      "Try using .loc[row_indexer,col_indexer] = value instead\n",
      "\n",
      "See the caveats in the documentation: https://pandas.pydata.org/pandas-docs/stable/user_guide/indexing.html#returning-a-view-versus-a-copy\n",
      "  df_campaign['previous_outcome'] = df_campaign.previous_outcome.astype('bool')\n",
      "<ipython-input-288-d13b2c0116b9>:7: SettingWithCopyWarning: \n",
      "A value is trying to be set on a copy of a slice from a DataFrame.\n",
      "Try using .loc[row_indexer,col_indexer] = value instead\n",
      "\n",
      "See the caveats in the documentation: https://pandas.pydata.org/pandas-docs/stable/user_guide/indexing.html#returning-a-view-versus-a-copy\n",
      "  df_campaign['campaign_outcome'] = df_campaign.campaign_outcome.astype('bool')\n"
     ]
    }
   ],
   "source": [
    "# check datatype \n",
    "print(\"Type of previous_outcome column before conversion: \", df_campaign.previous_outcome.dtype)\n",
    "print(\"Type of campaign_outcome column before conversion: \", df_campaign.campaign_outcome.dtype)\n",
    "\n",
    "# convert datatype\n",
    "df_campaign['previous_outcome'] = df_campaign.previous_outcome.astype('bool')\n",
    "df_campaign['campaign_outcome'] = df_campaign.campaign_outcome.astype('bool')\n",
    "print(\"\\n\")\n",
    "\n",
    "# check datatype after conversion\n",
    "print(\"Type of previous_outcome column after conversion: \", df_campaign.previous_outcome.dtype)\n",
    "print(\"Type of campaign_outcome column after conversion: \", df_campaign.campaign_outcome.dtype)"
   ]
  },
  {
   "cell_type": "code",
   "execution_count": 289,
   "metadata": {},
   "outputs": [
    {
     "name": "stderr",
     "output_type": "stream",
     "text": [
      "<ipython-input-289-83e93c835f7f>:2: SettingWithCopyWarning: \n",
      "A value is trying to be set on a copy of a slice from a DataFrame.\n",
      "Try using .loc[row_indexer,col_indexer] = value instead\n",
      "\n",
      "See the caveats in the documentation: https://pandas.pydata.org/pandas-docs/stable/user_guide/indexing.html#returning-a-view-versus-a-copy\n",
      "  df_campaign['year'] = 2022\n",
      "<ipython-input-289-83e93c835f7f>:8: SettingWithCopyWarning: \n",
      "A value is trying to be set on a copy of a slice from a DataFrame.\n",
      "Try using .loc[row_indexer,col_indexer] = value instead\n",
      "\n",
      "See the caveats in the documentation: https://pandas.pydata.org/pandas-docs/stable/user_guide/indexing.html#returning-a-view-versus-a-copy\n",
      "  df_campaign['month_num'] = df_campaign.month.map(map_month)\n",
      "<ipython-input-289-83e93c835f7f>:11: SettingWithCopyWarning: \n",
      "A value is trying to be set on a copy of a slice from a DataFrame.\n",
      "Try using .loc[row_indexer,col_indexer] = value instead\n",
      "\n",
      "See the caveats in the documentation: https://pandas.pydata.org/pandas-docs/stable/user_guide/indexing.html#returning-a-view-versus-a-copy\n",
      "  df_campaign['day'] = [\"{:02}\".format(num) for num in df_campaign['day']]\n",
      "<ipython-input-289-83e93c835f7f>:14: SettingWithCopyWarning: \n",
      "A value is trying to be set on a copy of a slice from a DataFrame.\n",
      "Try using .loc[row_indexer,col_indexer] = value instead\n",
      "\n",
      "See the caveats in the documentation: https://pandas.pydata.org/pandas-docs/stable/user_guide/indexing.html#returning-a-view-versus-a-copy\n",
      "  df_campaign['last_contact_date'] = df_campaign.year.astype(str) + \"-\" + df_campaign.month_num.astype(str) + \"-\" + df_campaign.day.astype(str)\n",
      "<ipython-input-289-83e93c835f7f>:17: SettingWithCopyWarning: \n",
      "A value is trying to be set on a copy of a slice from a DataFrame.\n",
      "Try using .loc[row_indexer,col_indexer] = value instead\n",
      "\n",
      "See the caveats in the documentation: https://pandas.pydata.org/pandas-docs/stable/user_guide/indexing.html#returning-a-view-versus-a-copy\n",
      "  df_campaign['last_contact_date'] = pd.to_datetime(df_campaign['last_contact_date'])\n"
     ]
    }
   ],
   "source": [
    "# create year column\n",
    "df_campaign['year'] = 2022\n",
    "\n",
    "# mapping the months\n",
    "map_month = {'mar': '03', 'apr': '04', 'may': '05', 'jun': '06',\n",
    "         'jul': '07', 'aug': '08','sep': '09', 'oct': '10', 'nov': '11', 'dec': '12'}\n",
    "\n",
    "df_campaign['month_num'] = df_campaign.month.map(map_month)\n",
    "\n",
    "# reformat day into 2 digit\n",
    "df_campaign['day'] = [\"{:02}\".format(num) for num in df_campaign['day']]\n",
    "\n",
    "# create last_contact_date column\n",
    "df_campaign['last_contact_date'] = df_campaign.year.astype(str) + \"-\" + df_campaign.month_num.astype(str) + \"-\" + df_campaign.day.astype(str)\n",
    "\n",
    "# convert last_contact_date column datatype\n",
    "df_campaign['last_contact_date'] = pd.to_datetime(df_campaign['last_contact_date'])\n",
    "\n",
    "# drop unnecessary columns\n",
    "df_campaign = df_campaign.drop(['day', 'month', 'year', 'month_num'], axis=1)"
   ]
  },
  {
   "cell_type": "code",
   "execution_count": 290,
   "metadata": {},
   "outputs": [
    {
     "name": "stdout",
     "output_type": "stream",
     "text": [
      "<class 'pandas.core.frame.DataFrame'>\n",
      "RangeIndex: 41188 entries, 0 to 41187\n",
      "Data columns (total 7 columns):\n",
      " #   Column                      Non-Null Count  Dtype         \n",
      "---  ------                      --------------  -----         \n",
      " 0   client_id                   41188 non-null  int64         \n",
      " 1   number_contacts             41188 non-null  int64         \n",
      " 2   contact_duration            41188 non-null  int64         \n",
      " 3   previous_campaign_contacts  41188 non-null  int64         \n",
      " 4   previous_outcome            41188 non-null  bool          \n",
      " 5   campaign_outcome            41188 non-null  bool          \n",
      " 6   last_contact_date           41188 non-null  datetime64[ns]\n",
      "dtypes: bool(2), datetime64[ns](1), int64(4)\n",
      "memory usage: 1.6 MB\n"
     ]
    }
   ],
   "source": [
    "df_campaign.info()"
   ]
  },
  {
   "cell_type": "code",
   "execution_count": 291,
   "metadata": {},
   "outputs": [
    {
     "data": {
      "text/html": [
       "<div>\n",
       "<style scoped>\n",
       "    .dataframe tbody tr th:only-of-type {\n",
       "        vertical-align: middle;\n",
       "    }\n",
       "\n",
       "    .dataframe tbody tr th {\n",
       "        vertical-align: top;\n",
       "    }\n",
       "\n",
       "    .dataframe thead th {\n",
       "        text-align: right;\n",
       "    }\n",
       "</style>\n",
       "<table border=\"1\" class=\"dataframe\">\n",
       "  <thead>\n",
       "    <tr style=\"text-align: right;\">\n",
       "      <th></th>\n",
       "      <th>client_id</th>\n",
       "      <th>number_contacts</th>\n",
       "      <th>contact_duration</th>\n",
       "      <th>previous_campaign_contacts</th>\n",
       "      <th>previous_outcome</th>\n",
       "      <th>campaign_outcome</th>\n",
       "      <th>last_contact_date</th>\n",
       "    </tr>\n",
       "  </thead>\n",
       "  <tbody>\n",
       "    <tr>\n",
       "      <th>19917</th>\n",
       "      <td>19917</td>\n",
       "      <td>1</td>\n",
       "      <td>131</td>\n",
       "      <td>0</td>\n",
       "      <td>False</td>\n",
       "      <td>False</td>\n",
       "      <td>2022-08-17</td>\n",
       "    </tr>\n",
       "    <tr>\n",
       "      <th>38817</th>\n",
       "      <td>38817</td>\n",
       "      <td>1</td>\n",
       "      <td>210</td>\n",
       "      <td>1</td>\n",
       "      <td>True</td>\n",
       "      <td>True</td>\n",
       "      <td>2022-11-02</td>\n",
       "    </tr>\n",
       "    <tr>\n",
       "      <th>38674</th>\n",
       "      <td>38674</td>\n",
       "      <td>3</td>\n",
       "      <td>96</td>\n",
       "      <td>1</td>\n",
       "      <td>False</td>\n",
       "      <td>False</td>\n",
       "      <td>2022-11-17</td>\n",
       "    </tr>\n",
       "    <tr>\n",
       "      <th>38091</th>\n",
       "      <td>38091</td>\n",
       "      <td>1</td>\n",
       "      <td>152</td>\n",
       "      <td>1</td>\n",
       "      <td>True</td>\n",
       "      <td>True</td>\n",
       "      <td>2022-09-11</td>\n",
       "    </tr>\n",
       "    <tr>\n",
       "      <th>9742</th>\n",
       "      <td>9742</td>\n",
       "      <td>5</td>\n",
       "      <td>100</td>\n",
       "      <td>0</td>\n",
       "      <td>False</td>\n",
       "      <td>False</td>\n",
       "      <td>2022-06-20</td>\n",
       "    </tr>\n",
       "  </tbody>\n",
       "</table>\n",
       "</div>"
      ],
      "text/plain": [
       "       client_id  number_contacts  contact_duration  \\\n",
       "19917      19917                1               131   \n",
       "38817      38817                1               210   \n",
       "38674      38674                3                96   \n",
       "38091      38091                1               152   \n",
       "9742        9742                5               100   \n",
       "\n",
       "       previous_campaign_contacts  previous_outcome  campaign_outcome  \\\n",
       "19917                           0             False             False   \n",
       "38817                           1              True              True   \n",
       "38674                           1             False             False   \n",
       "38091                           1              True              True   \n",
       "9742                            0             False             False   \n",
       "\n",
       "      last_contact_date  \n",
       "19917        2022-08-17  \n",
       "38817        2022-11-02  \n",
       "38674        2022-11-17  \n",
       "38091        2022-09-11  \n",
       "9742         2022-06-20  "
      ]
     },
     "execution_count": 291,
     "metadata": {},
     "output_type": "execute_result"
    }
   ],
   "source": [
    "df_campaign.sample(5)"
   ]
  },
  {
   "cell_type": "markdown",
   "metadata": {},
   "source": [
    "## 3. Economics Dataset\n",
    "\n",
    "Overview of Ecomonics Dataset."
   ]
  },
  {
   "cell_type": "code",
   "execution_count": 292,
   "metadata": {},
   "outputs": [
    {
     "name": "stdout",
     "output_type": "stream",
     "text": [
      "<class 'pandas.core.frame.DataFrame'>\n",
      "RangeIndex: 41188 entries, 0 to 41187\n",
      "Data columns (total 3 columns):\n",
      " #   Column                Non-Null Count  Dtype  \n",
      "---  ------                --------------  -----  \n",
      " 0   client_id             41188 non-null  int64  \n",
      " 1   cons_price_idx        41188 non-null  float64\n",
      " 2   euribor_three_months  41188 non-null  float64\n",
      "dtypes: float64(2), int64(1)\n",
      "memory usage: 965.5 KB\n"
     ]
    }
   ],
   "source": [
    "df_economics.info()"
   ]
  },
  {
   "cell_type": "code",
   "execution_count": 293,
   "metadata": {},
   "outputs": [
    {
     "data": {
      "text/html": [
       "<div>\n",
       "<style scoped>\n",
       "    .dataframe tbody tr th:only-of-type {\n",
       "        vertical-align: middle;\n",
       "    }\n",
       "\n",
       "    .dataframe tbody tr th {\n",
       "        vertical-align: top;\n",
       "    }\n",
       "\n",
       "    .dataframe thead th {\n",
       "        text-align: right;\n",
       "    }\n",
       "</style>\n",
       "<table border=\"1\" class=\"dataframe\">\n",
       "  <thead>\n",
       "    <tr style=\"text-align: right;\">\n",
       "      <th></th>\n",
       "      <th>client_id</th>\n",
       "      <th>cons_price_idx</th>\n",
       "      <th>euribor_three_months</th>\n",
       "    </tr>\n",
       "  </thead>\n",
       "  <tbody>\n",
       "    <tr>\n",
       "      <th>4740</th>\n",
       "      <td>4740</td>\n",
       "      <td>93.994</td>\n",
       "      <td>4.858</td>\n",
       "    </tr>\n",
       "    <tr>\n",
       "      <th>14824</th>\n",
       "      <td>14824</td>\n",
       "      <td>93.918</td>\n",
       "      <td>4.957</td>\n",
       "    </tr>\n",
       "    <tr>\n",
       "      <th>5622</th>\n",
       "      <td>5622</td>\n",
       "      <td>93.994</td>\n",
       "      <td>4.857</td>\n",
       "    </tr>\n",
       "    <tr>\n",
       "      <th>32314</th>\n",
       "      <td>32314</td>\n",
       "      <td>92.893</td>\n",
       "      <td>1.313</td>\n",
       "    </tr>\n",
       "    <tr>\n",
       "      <th>9920</th>\n",
       "      <td>9920</td>\n",
       "      <td>94.465</td>\n",
       "      <td>4.959</td>\n",
       "    </tr>\n",
       "  </tbody>\n",
       "</table>\n",
       "</div>"
      ],
      "text/plain": [
       "       client_id  cons_price_idx  euribor_three_months\n",
       "4740        4740          93.994                 4.858\n",
       "14824      14824          93.918                 4.957\n",
       "5622        5622          93.994                 4.857\n",
       "32314      32314          92.893                 1.313\n",
       "9920        9920          94.465                 4.959"
      ]
     },
     "execution_count": 293,
     "metadata": {},
     "output_type": "execute_result"
    }
   ],
   "source": [
    "df_economics.sample(5)"
   ]
  },
  {
   "cell_type": "code",
   "execution_count": null,
   "metadata": {},
   "outputs": [],
   "source": []
  }
 ],
 "metadata": {
  "kernelspec": {
   "display_name": "Python 3",
   "language": "python",
   "name": "python3"
  },
  "language_info": {
   "codemirror_mode": {
    "name": "ipython",
    "version": 3
   },
   "file_extension": ".py",
   "mimetype": "text/x-python",
   "name": "python",
   "nbconvert_exporter": "python",
   "pygments_lexer": "ipython3",
   "version": "3.8.8"
  }
 },
 "nbformat": 4,
 "nbformat_minor": 2
}
