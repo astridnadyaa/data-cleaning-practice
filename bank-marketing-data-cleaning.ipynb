{
 "cells": [
  {
   "cell_type": "code",
   "execution_count": 187,
   "metadata": {},
   "outputs": [],
   "source": [
    "import pandas as pd\n",
    "import numpy as np"
   ]
  },
  {
   "cell_type": "code",
   "execution_count": 188,
   "metadata": {},
   "outputs": [],
   "source": [
    "# load dataset\n",
    "df = pd.read_csv('bank_marketing.csv')"
   ]
  },
  {
   "cell_type": "markdown",
   "metadata": {},
   "source": [
    "# Chunking the Dataset\n",
    "\n",
    "Separate bank-marketing dataset into three dataset."
   ]
  },
  {
   "cell_type": "code",
   "execution_count": 189,
   "metadata": {},
   "outputs": [],
   "source": [
    "# create client dataset\n",
    "df_client = df[['client_id', 'age', 'job', 'marital', 'education', 'credit_default', 'mortgage']]\n",
    "\n",
    "# create campaign dataset\n",
    "df_campaign = df[['client_id', 'number_contacts', 'contact_duration', 'previous_campaign_contacts', 'previous_outcome', \n",
    "                  'campaign_outcome', 'day', 'month']]\n",
    "\n",
    "# create economics dataset\n",
    "df_economics = df[['client_id', 'cons_price_idx', 'euribor_three_months']]"
   ]
  },
  {
   "cell_type": "markdown",
   "metadata": {},
   "source": [
    "# Data Cleaning\n",
    "\n",
    "Cleaning each dataset as requirement."
   ]
  },
  {
   "cell_type": "markdown",
   "metadata": {},
   "source": [
    "### 1. Client Dataset"
   ]
  },
  {
   "cell_type": "code",
   "execution_count": 190,
   "metadata": {},
   "outputs": [
    {
     "data": {
      "text/html": [
       "<div>\n",
       "<style scoped>\n",
       "    .dataframe tbody tr th:only-of-type {\n",
       "        vertical-align: middle;\n",
       "    }\n",
       "\n",
       "    .dataframe tbody tr th {\n",
       "        vertical-align: top;\n",
       "    }\n",
       "\n",
       "    .dataframe thead th {\n",
       "        text-align: right;\n",
       "    }\n",
       "</style>\n",
       "<table border=\"1\" class=\"dataframe\">\n",
       "  <thead>\n",
       "    <tr style=\"text-align: right;\">\n",
       "      <th></th>\n",
       "      <th>client_id</th>\n",
       "      <th>age</th>\n",
       "      <th>job</th>\n",
       "      <th>marital</th>\n",
       "      <th>education</th>\n",
       "      <th>credit_default</th>\n",
       "      <th>mortgage</th>\n",
       "    </tr>\n",
       "  </thead>\n",
       "  <tbody>\n",
       "    <tr>\n",
       "      <th>8537</th>\n",
       "      <td>8537</td>\n",
       "      <td>33</td>\n",
       "      <td>admin.</td>\n",
       "      <td>married</td>\n",
       "      <td>university.degree</td>\n",
       "      <td>no</td>\n",
       "      <td>no</td>\n",
       "    </tr>\n",
       "    <tr>\n",
       "      <th>12606</th>\n",
       "      <td>12606</td>\n",
       "      <td>47</td>\n",
       "      <td>technician</td>\n",
       "      <td>married</td>\n",
       "      <td>professional.course</td>\n",
       "      <td>no</td>\n",
       "      <td>no</td>\n",
       "    </tr>\n",
       "    <tr>\n",
       "      <th>34488</th>\n",
       "      <td>34488</td>\n",
       "      <td>30</td>\n",
       "      <td>admin.</td>\n",
       "      <td>married</td>\n",
       "      <td>university.degree</td>\n",
       "      <td>no</td>\n",
       "      <td>no</td>\n",
       "    </tr>\n",
       "    <tr>\n",
       "      <th>37977</th>\n",
       "      <td>37977</td>\n",
       "      <td>54</td>\n",
       "      <td>technician</td>\n",
       "      <td>married</td>\n",
       "      <td>professional.course</td>\n",
       "      <td>no</td>\n",
       "      <td>no</td>\n",
       "    </tr>\n",
       "    <tr>\n",
       "      <th>21089</th>\n",
       "      <td>21089</td>\n",
       "      <td>32</td>\n",
       "      <td>unknown</td>\n",
       "      <td>married</td>\n",
       "      <td>basic.9y</td>\n",
       "      <td>no</td>\n",
       "      <td>no</td>\n",
       "    </tr>\n",
       "    <tr>\n",
       "      <th>3717</th>\n",
       "      <td>3717</td>\n",
       "      <td>46</td>\n",
       "      <td>services</td>\n",
       "      <td>divorced</td>\n",
       "      <td>high.school</td>\n",
       "      <td>no</td>\n",
       "      <td>no</td>\n",
       "    </tr>\n",
       "    <tr>\n",
       "      <th>10774</th>\n",
       "      <td>10774</td>\n",
       "      <td>44</td>\n",
       "      <td>services</td>\n",
       "      <td>single</td>\n",
       "      <td>high.school</td>\n",
       "      <td>no</td>\n",
       "      <td>no</td>\n",
       "    </tr>\n",
       "    <tr>\n",
       "      <th>3389</th>\n",
       "      <td>3389</td>\n",
       "      <td>47</td>\n",
       "      <td>blue-collar</td>\n",
       "      <td>married</td>\n",
       "      <td>professional.course</td>\n",
       "      <td>unknown</td>\n",
       "      <td>no</td>\n",
       "    </tr>\n",
       "    <tr>\n",
       "      <th>39337</th>\n",
       "      <td>39337</td>\n",
       "      <td>27</td>\n",
       "      <td>admin.</td>\n",
       "      <td>single</td>\n",
       "      <td>university.degree</td>\n",
       "      <td>no</td>\n",
       "      <td>no</td>\n",
       "    </tr>\n",
       "    <tr>\n",
       "      <th>3408</th>\n",
       "      <td>3408</td>\n",
       "      <td>38</td>\n",
       "      <td>student</td>\n",
       "      <td>single</td>\n",
       "      <td>university.degree</td>\n",
       "      <td>no</td>\n",
       "      <td>no</td>\n",
       "    </tr>\n",
       "  </tbody>\n",
       "</table>\n",
       "</div>"
      ],
      "text/plain": [
       "       client_id  age          job   marital            education  \\\n",
       "8537        8537   33       admin.   married    university.degree   \n",
       "12606      12606   47   technician   married  professional.course   \n",
       "34488      34488   30       admin.   married    university.degree   \n",
       "37977      37977   54   technician   married  professional.course   \n",
       "21089      21089   32      unknown   married             basic.9y   \n",
       "3717        3717   46     services  divorced          high.school   \n",
       "10774      10774   44     services    single          high.school   \n",
       "3389        3389   47  blue-collar   married  professional.course   \n",
       "39337      39337   27       admin.    single    university.degree   \n",
       "3408        3408   38      student    single    university.degree   \n",
       "\n",
       "      credit_default mortgage  \n",
       "8537              no       no  \n",
       "12606             no       no  \n",
       "34488             no       no  \n",
       "37977             no       no  \n",
       "21089             no       no  \n",
       "3717              no       no  \n",
       "10774             no       no  \n",
       "3389         unknown       no  \n",
       "39337             no       no  \n",
       "3408              no       no  "
      ]
     },
     "execution_count": 190,
     "metadata": {},
     "output_type": "execute_result"
    }
   ],
   "source": [
    "df_client.sample(10)"
   ]
  },
  {
   "cell_type": "code",
   "execution_count": 191,
   "metadata": {},
   "outputs": [
    {
     "name": "stdout",
     "output_type": "stream",
     "text": [
      "<class 'pandas.core.frame.DataFrame'>\n",
      "RangeIndex: 41188 entries, 0 to 41187\n",
      "Data columns (total 7 columns):\n",
      " #   Column          Non-Null Count  Dtype \n",
      "---  ------          --------------  ----- \n",
      " 0   client_id       41188 non-null  int64 \n",
      " 1   age             41188 non-null  int64 \n",
      " 2   job             41188 non-null  object\n",
      " 3   marital         41188 non-null  object\n",
      " 4   education       41188 non-null  object\n",
      " 5   credit_default  41188 non-null  object\n",
      " 6   mortgage        41188 non-null  object\n",
      "dtypes: int64(2), object(5)\n",
      "memory usage: 2.2+ MB\n"
     ]
    }
   ],
   "source": [
    "# check datatype\n",
    "df_client.info()"
   ]
  },
  {
   "cell_type": "markdown",
   "metadata": {},
   "source": [
    "no missing values in client dataset.\n",
    "column credit_default and mortgage should convert to boolean data type."
   ]
  },
  {
   "cell_type": "markdown",
   "metadata": {},
   "source": [
    "### credit_default column and mortgage column"
   ]
  },
  {
   "cell_type": "code",
   "execution_count": 192,
   "metadata": {},
   "outputs": [
    {
     "name": "stdout",
     "output_type": "stream",
     "text": [
      "Unique values in credit_default column before conversion:  ['no' 'unknown' 'yes']\n",
      "Unique values in mortgage column before conversion:  ['no' 'yes' 'unknown']\n",
      "Unique values in credit_default column after conversion:  [0 1]\n",
      "Unique values in mortgage column after conversion:  [0 1]\n"
     ]
    },
    {
     "name": "stderr",
     "output_type": "stream",
     "text": [
      "<ipython-input-192-694f2eb481b6>:6: SettingWithCopyWarning: \n",
      "A value is trying to be set on a copy of a slice from a DataFrame.\n",
      "Try using .loc[row_indexer,col_indexer] = value instead\n",
      "\n",
      "See the caveats in the documentation: https://pandas.pydata.org/pandas-docs/stable/user_guide/indexing.html#returning-a-view-versus-a-copy\n",
      "  df_client['credit_default'] = np.where(df_client['credit_default'] == \"yes\", 1, 0)\n",
      "<ipython-input-192-694f2eb481b6>:7: SettingWithCopyWarning: \n",
      "A value is trying to be set on a copy of a slice from a DataFrame.\n",
      "Try using .loc[row_indexer,col_indexer] = value instead\n",
      "\n",
      "See the caveats in the documentation: https://pandas.pydata.org/pandas-docs/stable/user_guide/indexing.html#returning-a-view-versus-a-copy\n",
      "  df_client['mortgage'] = np.where(df_client['mortgage'] == \"yes\", 1, 0)\n"
     ]
    }
   ],
   "source": [
    "# check unique values from the columns\n",
    "print('Unique values in credit_default column before conversion: ', df_client.credit_default.unique())\n",
    "print('Unique values in mortgage column before conversion: ', df_client.mortgage.unique())\n",
    "\n",
    "# replace values\n",
    "df_client['credit_default'] = np.where(df_client['credit_default'] == \"yes\", 1, 0)\n",
    "df_client['mortgage'] = np.where(df_client['mortgage'] == \"yes\", 1, 0)\n",
    "\n",
    "# check unique values from the columns\n",
    "print('Unique values in credit_default column after conversion: ', df_client.credit_default.unique())\n",
    "print('Unique values in mortgage column after conversion: ', df_client.mortgage.unique())"
   ]
  },
  {
   "cell_type": "code",
   "execution_count": 193,
   "metadata": {},
   "outputs": [
    {
     "data": {
      "text/plain": [
       "client_id          int64\n",
       "age                int64\n",
       "job               object\n",
       "marital           object\n",
       "education         object\n",
       "credit_default     int64\n",
       "mortgage           int64\n",
       "dtype: object"
      ]
     },
     "execution_count": 193,
     "metadata": {},
     "output_type": "execute_result"
    }
   ],
   "source": [
    "df_client.dtypes"
   ]
  },
  {
   "cell_type": "code",
   "execution_count": 194,
   "metadata": {},
   "outputs": [
    {
     "name": "stdout",
     "output_type": "stream",
     "text": [
      "Type of credit_default column before conversion:  int64\n",
      "Type of credit_default column after conversion:  bool\n",
      "Type of mortgage column before conversion:  int64\n",
      "Type of mortgage column after conversion:  bool\n"
     ]
    },
    {
     "name": "stderr",
     "output_type": "stream",
     "text": [
      "<ipython-input-194-3acc1c1387cf>:3: SettingWithCopyWarning: \n",
      "A value is trying to be set on a copy of a slice from a DataFrame.\n",
      "Try using .loc[row_indexer,col_indexer] = value instead\n",
      "\n",
      "See the caveats in the documentation: https://pandas.pydata.org/pandas-docs/stable/user_guide/indexing.html#returning-a-view-versus-a-copy\n",
      "  df_client['credit_default'] = df.credit_default.astype('bool')\n",
      "<ipython-input-194-3acc1c1387cf>:7: SettingWithCopyWarning: \n",
      "A value is trying to be set on a copy of a slice from a DataFrame.\n",
      "Try using .loc[row_indexer,col_indexer] = value instead\n",
      "\n",
      "See the caveats in the documentation: https://pandas.pydata.org/pandas-docs/stable/user_guide/indexing.html#returning-a-view-versus-a-copy\n",
      "  df_client['mortgage'] = df.mortgage.astype('bool')\n"
     ]
    }
   ],
   "source": [
    "# convert datatype\n",
    "print(\"Type of credit_default column before conversion: \", df_client.credit_default.dtype)\n",
    "df_client['credit_default'] = df.credit_default.astype('bool')\n",
    "print(\"Type of credit_default column after conversion: \", df_client.credit_default.dtype)\n",
    "\n",
    "print(\"Type of mortgage column before conversion: \", df_client.mortgage.dtype)\n",
    "df_client['mortgage'] = df.mortgage.astype('bool')\n",
    "print(\"Type of mortgage column after conversion: \", df_client.mortgage.dtype)"
   ]
  },
  {
   "cell_type": "code",
   "execution_count": 195,
   "metadata": {},
   "outputs": [
    {
     "name": "stdout",
     "output_type": "stream",
     "text": [
      "<class 'pandas.core.frame.DataFrame'>\n",
      "RangeIndex: 41188 entries, 0 to 41187\n",
      "Data columns (total 7 columns):\n",
      " #   Column          Non-Null Count  Dtype \n",
      "---  ------          --------------  ----- \n",
      " 0   client_id       41188 non-null  int64 \n",
      " 1   age             41188 non-null  int64 \n",
      " 2   job             41188 non-null  object\n",
      " 3   marital         41188 non-null  object\n",
      " 4   education       41188 non-null  object\n",
      " 5   credit_default  41188 non-null  bool  \n",
      " 6   mortgage        41188 non-null  bool  \n",
      "dtypes: bool(2), int64(2), object(3)\n",
      "memory usage: 1.6+ MB\n"
     ]
    }
   ],
   "source": [
    "df_client.info()"
   ]
  },
  {
   "cell_type": "markdown",
   "metadata": {},
   "source": [
    "### job column and education column"
   ]
  },
  {
   "cell_type": "code",
   "execution_count": 196,
   "metadata": {},
   "outputs": [
    {
     "name": "stdout",
     "output_type": "stream",
     "text": [
      "Unique values in job column before conversion:  ['housemaid' 'services' 'admin.' 'blue-collar' 'technician' 'retired'\n",
      " 'management' 'unemployed' 'self-employed' 'unknown' 'entrepreneur'\n",
      " 'student']\n",
      "Unique values in job column after conversion:  ['housemaid' 'services' 'admin_' 'blue-collar' 'technician' 'retired'\n",
      " 'management' 'unemployed' 'self-employed' 'unknown' 'entrepreneur'\n",
      " 'student']\n"
     ]
    },
    {
     "name": "stderr",
     "output_type": "stream",
     "text": [
      "<ipython-input-196-6226af63e1ce>:5: SettingWithCopyWarning: \n",
      "A value is trying to be set on a copy of a slice from a DataFrame.\n",
      "Try using .loc[row_indexer,col_indexer] = value instead\n",
      "\n",
      "See the caveats in the documentation: https://pandas.pydata.org/pandas-docs/stable/user_guide/indexing.html#returning-a-view-versus-a-copy\n",
      "  df_client['job'] = df_client['job'].apply(lambda x: x.replace('.', '_'))\n"
     ]
    }
   ],
   "source": [
    "# check unique values\n",
    "print(\"Unique values in job column before conversion: \", df_client.job.unique())\n",
    "\n",
    "# change \".\" to \"_\"\n",
    "df_client['job'] = df_client['job'].apply(lambda x: x.replace('.', '_'))\n",
    "\n",
    "print(\"Unique values in job column after conversion: \", df_client.job.unique())"
   ]
  },
  {
   "cell_type": "code",
   "execution_count": 197,
   "metadata": {},
   "outputs": [
    {
     "name": "stdout",
     "output_type": "stream",
     "text": [
      "Unique values in education column before conversion:  ['basic.4y' 'high.school' 'basic.6y' 'basic.9y' 'professional.course'\n",
      " 'unknown' 'university.degree' 'illiterate']\n",
      "Unique values in education column after conversion:  ['basic_4y' 'high_school' 'basic_6y' 'basic_9y' 'professional_course' nan\n",
      " 'university_degree' 'illiterate']\n"
     ]
    },
    {
     "name": "stderr",
     "output_type": "stream",
     "text": [
      "<ipython-input-197-5ddc0ea71ce5>:5: SettingWithCopyWarning: \n",
      "A value is trying to be set on a copy of a slice from a DataFrame.\n",
      "Try using .loc[row_indexer,col_indexer] = value instead\n",
      "\n",
      "See the caveats in the documentation: https://pandas.pydata.org/pandas-docs/stable/user_guide/indexing.html#returning-a-view-versus-a-copy\n",
      "  df_client['education'] = df_client['education'].apply(lambda x: x.replace('.', '_'))\n",
      "<ipython-input-197-5ddc0ea71ce5>:6: SettingWithCopyWarning: \n",
      "A value is trying to be set on a copy of a slice from a DataFrame.\n",
      "Try using .loc[row_indexer,col_indexer] = value instead\n",
      "\n",
      "See the caveats in the documentation: https://pandas.pydata.org/pandas-docs/stable/user_guide/indexing.html#returning-a-view-versus-a-copy\n",
      "  df_client['education'] = df_client['education'].replace('unknown', np.NaN)\n"
     ]
    }
   ],
   "source": [
    "# check unique values\n",
    "print(\"Unique values in education column before conversion: \", df_client.education.unique())\n",
    "\n",
    "# change \".\" to \"_\" and \"unknown\" to \"np.NaN\"\n",
    "df_client['education'] = df_client['education'].apply(lambda x: x.replace('.', '_'))\n",
    "df_client['education'] = df_client['education'].replace('unknown', np.NaN)\n",
    "\n",
    "print(\"Unique values in education column after conversion: \", df_client.education.unique())"
   ]
  }
 ],
 "metadata": {
  "kernelspec": {
   "display_name": "Python 3",
   "language": "python",
   "name": "python3"
  },
  "language_info": {
   "codemirror_mode": {
    "name": "ipython",
    "version": 3
   },
   "file_extension": ".py",
   "mimetype": "text/x-python",
   "name": "python",
   "nbconvert_exporter": "python",
   "pygments_lexer": "ipython3",
   "version": "3.8.8"
  }
 },
 "nbformat": 4,
 "nbformat_minor": 2
}
